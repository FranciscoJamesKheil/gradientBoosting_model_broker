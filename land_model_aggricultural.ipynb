{
 "cells": [
  {
   "cell_type": "markdown",
   "metadata": {},
   "source": [
    "## Zamboanga City Land Price Prediction (Aggricultural)"
   ]
  },
  {
   "cell_type": "code",
   "execution_count": 4,
   "metadata": {},
   "outputs": [],
   "source": [
    "import pandas as pd\n",
    "import numpy as np\n",
    "import matplotlib.pyplot as plt\n",
    "from sklearn.model_selection import train_test_split\n",
    "import math, statistics"
   ]
  },
  {
   "cell_type": "markdown",
   "metadata": {},
   "source": [
    "### Import dataset"
   ]
  },
  {
   "cell_type": "code",
   "execution_count": 5,
   "metadata": {},
   "outputs": [
    {
     "data": {
      "text/html": [
       "<div>\n",
       "<style scoped>\n",
       "    .dataframe tbody tr th:only-of-type {\n",
       "        vertical-align: middle;\n",
       "    }\n",
       "\n",
       "    .dataframe tbody tr th {\n",
       "        vertical-align: top;\n",
       "    }\n",
       "\n",
       "    .dataframe thead th {\n",
       "        text-align: right;\n",
       "    }\n",
       "</style>\n",
       "<table border=\"1\" class=\"dataframe\">\n",
       "  <thead>\n",
       "    <tr style=\"text-align: right;\">\n",
       "      <th></th>\n",
       "      <th>Barangay</th>\n",
       "      <th>Classification</th>\n",
       "      <th>Area (hectares)</th>\n",
       "      <th>Actual Use</th>\n",
       "      <th>Product Class</th>\n",
       "      <th>Abaca</th>\n",
       "      <th>Banana Hills</th>\n",
       "      <th>Coconut Trees</th>\n",
       "      <th>Cocot Trees</th>\n",
       "      <th>Mango Trees</th>\n",
       "      <th>Marang Trees</th>\n",
       "      <th>Coffee</th>\n",
       "      <th>Juani</th>\n",
       "      <th>Nangca</th>\n",
       "      <th>Non-Fruit</th>\n",
       "      <th>Fruit</th>\n",
       "      <th>Effectivity</th>\n",
       "      <th>Market Value</th>\n",
       "    </tr>\n",
       "  </thead>\n",
       "  <tbody>\n",
       "    <tr>\n",
       "      <th>0</th>\n",
       "      <td>Cabatangan</td>\n",
       "      <td>Aggricultural</td>\n",
       "      <td>0.9077</td>\n",
       "      <td>Coco Land</td>\n",
       "      <td>Coconut-1st</td>\n",
       "      <td>0.0</td>\n",
       "      <td>0.0</td>\n",
       "      <td>90.0</td>\n",
       "      <td>0.0</td>\n",
       "      <td>0.0</td>\n",
       "      <td>0.0</td>\n",
       "      <td>0.0</td>\n",
       "      <td>0.0</td>\n",
       "      <td>0.0</td>\n",
       "      <td>NaN</td>\n",
       "      <td>90</td>\n",
       "      <td>2012.0</td>\n",
       "      <td>46450.0</td>\n",
       "    </tr>\n",
       "    <tr>\n",
       "      <th>1</th>\n",
       "      <td>Cabatangan</td>\n",
       "      <td>Aggricultural</td>\n",
       "      <td>0.9077</td>\n",
       "      <td>Coco Land</td>\n",
       "      <td>Coconut-1st</td>\n",
       "      <td>0.0</td>\n",
       "      <td>0.0</td>\n",
       "      <td>90.0</td>\n",
       "      <td>0.0</td>\n",
       "      <td>0.0</td>\n",
       "      <td>0.0</td>\n",
       "      <td>0.0</td>\n",
       "      <td>0.0</td>\n",
       "      <td>0.0</td>\n",
       "      <td>NaN</td>\n",
       "      <td>90</td>\n",
       "      <td>2012.0</td>\n",
       "      <td>17550.0</td>\n",
       "    </tr>\n",
       "    <tr>\n",
       "      <th>2</th>\n",
       "      <td>Cabatangan</td>\n",
       "      <td>Aggricultural</td>\n",
       "      <td>0.3100</td>\n",
       "      <td>Coco Land</td>\n",
       "      <td>CTB</td>\n",
       "      <td>0.0</td>\n",
       "      <td>0.0</td>\n",
       "      <td>5.0</td>\n",
       "      <td>0.0</td>\n",
       "      <td>0.0</td>\n",
       "      <td>0.0</td>\n",
       "      <td>0.0</td>\n",
       "      <td>0.0</td>\n",
       "      <td>0.0</td>\n",
       "      <td>NaN</td>\n",
       "      <td>5</td>\n",
       "      <td>2012.0</td>\n",
       "      <td>449490.0</td>\n",
       "    </tr>\n",
       "    <tr>\n",
       "      <th>3</th>\n",
       "      <td>Cabatangan</td>\n",
       "      <td>Aggricultural</td>\n",
       "      <td>1.3820</td>\n",
       "      <td>Coco Land</td>\n",
       "      <td>CTB</td>\n",
       "      <td>0.0</td>\n",
       "      <td>0.0</td>\n",
       "      <td>50.0</td>\n",
       "      <td>0.0</td>\n",
       "      <td>0.0</td>\n",
       "      <td>0.0</td>\n",
       "      <td>0.0</td>\n",
       "      <td>0.0</td>\n",
       "      <td>0.0</td>\n",
       "      <td>NaN</td>\n",
       "      <td>50</td>\n",
       "      <td>2012.0</td>\n",
       "      <td>371480.0</td>\n",
       "    </tr>\n",
       "    <tr>\n",
       "      <th>4</th>\n",
       "      <td>Cabatangan</td>\n",
       "      <td>Aggricultural</td>\n",
       "      <td>1.0954</td>\n",
       "      <td>Coco Land</td>\n",
       "      <td>CTB</td>\n",
       "      <td>0.0</td>\n",
       "      <td>0.0</td>\n",
       "      <td>40.0</td>\n",
       "      <td>0.0</td>\n",
       "      <td>0.0</td>\n",
       "      <td>0.0</td>\n",
       "      <td>0.0</td>\n",
       "      <td>0.0</td>\n",
       "      <td>0.0</td>\n",
       "      <td>NaN</td>\n",
       "      <td>40</td>\n",
       "      <td>2012.0</td>\n",
       "      <td>125990.0</td>\n",
       "    </tr>\n",
       "  </tbody>\n",
       "</table>\n",
       "</div>"
      ],
      "text/plain": [
       "     Barangay Classification  Area (hectares) Actual Use Product Class  Abaca  \\\n",
       "0  Cabatangan  Aggricultural           0.9077  Coco Land   Coconut-1st    0.0   \n",
       "1  Cabatangan  Aggricultural           0.9077  Coco Land   Coconut-1st    0.0   \n",
       "2  Cabatangan  Aggricultural           0.3100  Coco Land           CTB    0.0   \n",
       "3  Cabatangan  Aggricultural           1.3820  Coco Land           CTB    0.0   \n",
       "4  Cabatangan  Aggricultural           1.0954  Coco Land           CTB    0.0   \n",
       "\n",
       "   Banana Hills  Coconut Trees  Cocot Trees  Mango Trees  Marang Trees  \\\n",
       "0           0.0           90.0          0.0          0.0           0.0   \n",
       "1           0.0           90.0          0.0          0.0           0.0   \n",
       "2           0.0            5.0          0.0          0.0           0.0   \n",
       "3           0.0           50.0          0.0          0.0           0.0   \n",
       "4           0.0           40.0          0.0          0.0           0.0   \n",
       "\n",
       "   Coffee  Juani  Nangca  Non-Fruit  Fruit  Effectivity  Market Value  \n",
       "0     0.0    0.0     0.0        NaN     90       2012.0       46450.0  \n",
       "1     0.0    0.0     0.0        NaN     90       2012.0       17550.0  \n",
       "2     0.0    0.0     0.0        NaN      5       2012.0      449490.0  \n",
       "3     0.0    0.0     0.0        NaN     50       2012.0      371480.0  \n",
       "4     0.0    0.0     0.0        NaN     40       2012.0      125990.0  "
      ]
     },
     "execution_count": 5,
     "metadata": {},
     "output_type": "execute_result"
    }
   ],
   "source": [
    "df = pd.read_csv(\"../datasets/Land - Aggricultural.csv\")\n",
    "df.head()"
   ]
  },
  {
   "cell_type": "markdown",
   "metadata": {},
   "source": [
    "### Data Cleaning"
   ]
  },
  {
   "cell_type": "code",
   "execution_count": 6,
   "metadata": {},
   "outputs": [
    {
     "data": {
      "text/plain": [
       "Index(['Barangay', 'Classification', 'Area (hectares)', 'Actual Use',\n",
       "       'Product Class', 'Abaca', 'Banana Hills', 'Coconut Trees',\n",
       "       'Cocot Trees', 'Mango Trees', 'Marang Trees', 'Coffee', 'Juani',\n",
       "       'Nangca', 'Non-Fruit', 'Fruit', 'Effectivity', 'Market Value'],\n",
       "      dtype='object')"
      ]
     },
     "execution_count": 6,
     "metadata": {},
     "output_type": "execute_result"
    }
   ],
   "source": [
    "df.columns"
   ]
  },
  {
   "cell_type": "code",
   "execution_count": 7,
   "metadata": {},
   "outputs": [
    {
     "data": {
      "text/plain": [
       "Barangay            0\n",
       "Classification      0\n",
       "Area (hectares)     0\n",
       "Actual Use          1\n",
       "Product Class       6\n",
       "Abaca              15\n",
       "Banana Hills       14\n",
       "Coconut Trees       2\n",
       "Cocot Trees        17\n",
       "Mango Trees        12\n",
       "Marang Trees       13\n",
       "Coffee             15\n",
       "Juani              14\n",
       "Nangca             14\n",
       "Non-Fruit          49\n",
       "Fruit               0\n",
       "Effectivity        12\n",
       "Market Value        0\n",
       "dtype: int64"
      ]
     },
     "execution_count": 7,
     "metadata": {},
     "output_type": "execute_result"
    }
   ],
   "source": [
    "df.isna().sum()"
   ]
  },
  {
   "cell_type": "markdown",
   "metadata": {},
   "source": [
    "##### Renaming column names"
   ]
  },
  {
   "cell_type": "code",
   "execution_count": 8,
   "metadata": {},
   "outputs": [],
   "source": [
    "df.columns = df.columns.str.lower()"
   ]
  },
  {
   "cell_type": "code",
   "execution_count": 9,
   "metadata": {},
   "outputs": [
    {
     "data": {
      "text/plain": [
       "Index(['barangay', 'classification', 'area (hectares)', 'actual use',\n",
       "       'product class', 'abaca', 'banana hills', 'coconut trees',\n",
       "       'cocot trees', 'mango trees', 'marang trees', 'coffee', 'juani',\n",
       "       'nangca', 'non-fruit', 'fruit', 'effectivity', 'market value'],\n",
       "      dtype='object')"
      ]
     },
     "execution_count": 9,
     "metadata": {},
     "output_type": "execute_result"
    }
   ],
   "source": [
    "df.columns"
   ]
  },
  {
   "cell_type": "code",
   "execution_count": 10,
   "metadata": {},
   "outputs": [
    {
     "data": {
      "text/plain": [
       "Index(['barangay', 'classification', 'area (hectares)', 'actual use',\n",
       "       'product class', 'abaca', 'banana hills', 'coconut trees',\n",
       "       'cocot trees', 'mango trees', 'marang trees', 'coffee', 'juani',\n",
       "       'nangca', 'non-fruit', 'fruit', 'effectivity', 'target_value'],\n",
       "      dtype='object')"
      ]
     },
     "execution_count": 10,
     "metadata": {},
     "output_type": "execute_result"
    }
   ],
   "source": [
    "df = df.rename(columns={'address':'brgy','land area':'land_area','market value':'target_value'\n",
    "})\n",
    "df.columns"
   ]
  },
  {
   "cell_type": "markdown",
   "metadata": {},
   "source": [
    "##### Barangay"
   ]
  },
  {
   "cell_type": "code",
   "execution_count": 11,
   "metadata": {},
   "outputs": [
    {
     "ename": "KeyError",
     "evalue": "'brgy'",
     "output_type": "error",
     "traceback": [
      "\u001b[1;31m---------------------------------------------------------------------------\u001b[0m",
      "\u001b[1;31mKeyError\u001b[0m                                  Traceback (most recent call last)",
      "\u001b[1;32m~\\AppData\\Local\\Packages\\PythonSoftwareFoundation.Python.3.9_qbz5n2kfra8p0\\LocalCache\\local-packages\\Python39\\site-packages\\pandas\\core\\indexes\\base.py\u001b[0m in \u001b[0;36mget_loc\u001b[1;34m(self, key, method, tolerance)\u001b[0m\n\u001b[0;32m   3360\u001b[0m             \u001b[1;32mtry\u001b[0m\u001b[1;33m:\u001b[0m\u001b[1;33m\u001b[0m\u001b[1;33m\u001b[0m\u001b[0m\n\u001b[1;32m-> 3361\u001b[1;33m                 \u001b[1;32mreturn\u001b[0m \u001b[0mself\u001b[0m\u001b[1;33m.\u001b[0m\u001b[0m_engine\u001b[0m\u001b[1;33m.\u001b[0m\u001b[0mget_loc\u001b[0m\u001b[1;33m(\u001b[0m\u001b[0mcasted_key\u001b[0m\u001b[1;33m)\u001b[0m\u001b[1;33m\u001b[0m\u001b[1;33m\u001b[0m\u001b[0m\n\u001b[0m\u001b[0;32m   3362\u001b[0m             \u001b[1;32mexcept\u001b[0m \u001b[0mKeyError\u001b[0m \u001b[1;32mas\u001b[0m \u001b[0merr\u001b[0m\u001b[1;33m:\u001b[0m\u001b[1;33m\u001b[0m\u001b[1;33m\u001b[0m\u001b[0m\n",
      "\u001b[1;32m~\\AppData\\Local\\Packages\\PythonSoftwareFoundation.Python.3.9_qbz5n2kfra8p0\\LocalCache\\local-packages\\Python39\\site-packages\\pandas\\_libs\\index.pyx\u001b[0m in \u001b[0;36mpandas._libs.index.IndexEngine.get_loc\u001b[1;34m()\u001b[0m\n",
      "\u001b[1;32m~\\AppData\\Local\\Packages\\PythonSoftwareFoundation.Python.3.9_qbz5n2kfra8p0\\LocalCache\\local-packages\\Python39\\site-packages\\pandas\\_libs\\index.pyx\u001b[0m in \u001b[0;36mpandas._libs.index.IndexEngine.get_loc\u001b[1;34m()\u001b[0m\n",
      "\u001b[1;32mpandas\\_libs\\hashtable_class_helper.pxi\u001b[0m in \u001b[0;36mpandas._libs.hashtable.PyObjectHashTable.get_item\u001b[1;34m()\u001b[0m\n",
      "\u001b[1;32mpandas\\_libs\\hashtable_class_helper.pxi\u001b[0m in \u001b[0;36mpandas._libs.hashtable.PyObjectHashTable.get_item\u001b[1;34m()\u001b[0m\n",
      "\u001b[1;31mKeyError\u001b[0m: 'brgy'",
      "\nThe above exception was the direct cause of the following exception:\n",
      "\u001b[1;31mKeyError\u001b[0m                                  Traceback (most recent call last)",
      "\u001b[1;32m~\\AppData\\Local\\Temp/ipykernel_2556/2454725887.py\u001b[0m in \u001b[0;36m<module>\u001b[1;34m\u001b[0m\n\u001b[1;32m----> 1\u001b[1;33m \u001b[0mdf\u001b[0m\u001b[1;33m[\u001b[0m\u001b[1;34m'brgy'\u001b[0m\u001b[1;33m]\u001b[0m \u001b[1;33m=\u001b[0m \u001b[0mdf\u001b[0m\u001b[1;33m[\u001b[0m\u001b[1;34m'brgy'\u001b[0m\u001b[1;33m]\u001b[0m\u001b[1;33m.\u001b[0m\u001b[0mstr\u001b[0m\u001b[1;33m.\u001b[0m\u001b[0mlower\u001b[0m\u001b[1;33m(\u001b[0m\u001b[1;33m)\u001b[0m\u001b[1;33m\u001b[0m\u001b[1;33m\u001b[0m\u001b[0m\n\u001b[0m\u001b[0;32m      2\u001b[0m \u001b[0mdf\u001b[0m\u001b[1;33m[\u001b[0m\u001b[1;34m'brgy'\u001b[0m\u001b[1;33m]\u001b[0m\u001b[1;33m.\u001b[0m\u001b[0mhead\u001b[0m\u001b[1;33m(\u001b[0m\u001b[1;33m)\u001b[0m\u001b[1;33m\u001b[0m\u001b[1;33m\u001b[0m\u001b[0m\n",
      "\u001b[1;32m~\\AppData\\Local\\Packages\\PythonSoftwareFoundation.Python.3.9_qbz5n2kfra8p0\\LocalCache\\local-packages\\Python39\\site-packages\\pandas\\core\\frame.py\u001b[0m in \u001b[0;36m__getitem__\u001b[1;34m(self, key)\u001b[0m\n\u001b[0;32m   3456\u001b[0m             \u001b[1;32mif\u001b[0m \u001b[0mself\u001b[0m\u001b[1;33m.\u001b[0m\u001b[0mcolumns\u001b[0m\u001b[1;33m.\u001b[0m\u001b[0mnlevels\u001b[0m \u001b[1;33m>\u001b[0m \u001b[1;36m1\u001b[0m\u001b[1;33m:\u001b[0m\u001b[1;33m\u001b[0m\u001b[1;33m\u001b[0m\u001b[0m\n\u001b[0;32m   3457\u001b[0m                 \u001b[1;32mreturn\u001b[0m \u001b[0mself\u001b[0m\u001b[1;33m.\u001b[0m\u001b[0m_getitem_multilevel\u001b[0m\u001b[1;33m(\u001b[0m\u001b[0mkey\u001b[0m\u001b[1;33m)\u001b[0m\u001b[1;33m\u001b[0m\u001b[1;33m\u001b[0m\u001b[0m\n\u001b[1;32m-> 3458\u001b[1;33m             \u001b[0mindexer\u001b[0m \u001b[1;33m=\u001b[0m \u001b[0mself\u001b[0m\u001b[1;33m.\u001b[0m\u001b[0mcolumns\u001b[0m\u001b[1;33m.\u001b[0m\u001b[0mget_loc\u001b[0m\u001b[1;33m(\u001b[0m\u001b[0mkey\u001b[0m\u001b[1;33m)\u001b[0m\u001b[1;33m\u001b[0m\u001b[1;33m\u001b[0m\u001b[0m\n\u001b[0m\u001b[0;32m   3459\u001b[0m             \u001b[1;32mif\u001b[0m \u001b[0mis_integer\u001b[0m\u001b[1;33m(\u001b[0m\u001b[0mindexer\u001b[0m\u001b[1;33m)\u001b[0m\u001b[1;33m:\u001b[0m\u001b[1;33m\u001b[0m\u001b[1;33m\u001b[0m\u001b[0m\n\u001b[0;32m   3460\u001b[0m                 \u001b[0mindexer\u001b[0m \u001b[1;33m=\u001b[0m \u001b[1;33m[\u001b[0m\u001b[0mindexer\u001b[0m\u001b[1;33m]\u001b[0m\u001b[1;33m\u001b[0m\u001b[1;33m\u001b[0m\u001b[0m\n",
      "\u001b[1;32m~\\AppData\\Local\\Packages\\PythonSoftwareFoundation.Python.3.9_qbz5n2kfra8p0\\LocalCache\\local-packages\\Python39\\site-packages\\pandas\\core\\indexes\\base.py\u001b[0m in \u001b[0;36mget_loc\u001b[1;34m(self, key, method, tolerance)\u001b[0m\n\u001b[0;32m   3361\u001b[0m                 \u001b[1;32mreturn\u001b[0m \u001b[0mself\u001b[0m\u001b[1;33m.\u001b[0m\u001b[0m_engine\u001b[0m\u001b[1;33m.\u001b[0m\u001b[0mget_loc\u001b[0m\u001b[1;33m(\u001b[0m\u001b[0mcasted_key\u001b[0m\u001b[1;33m)\u001b[0m\u001b[1;33m\u001b[0m\u001b[1;33m\u001b[0m\u001b[0m\n\u001b[0;32m   3362\u001b[0m             \u001b[1;32mexcept\u001b[0m \u001b[0mKeyError\u001b[0m \u001b[1;32mas\u001b[0m \u001b[0merr\u001b[0m\u001b[1;33m:\u001b[0m\u001b[1;33m\u001b[0m\u001b[1;33m\u001b[0m\u001b[0m\n\u001b[1;32m-> 3363\u001b[1;33m                 \u001b[1;32mraise\u001b[0m \u001b[0mKeyError\u001b[0m\u001b[1;33m(\u001b[0m\u001b[0mkey\u001b[0m\u001b[1;33m)\u001b[0m \u001b[1;32mfrom\u001b[0m \u001b[0merr\u001b[0m\u001b[1;33m\u001b[0m\u001b[1;33m\u001b[0m\u001b[0m\n\u001b[0m\u001b[0;32m   3364\u001b[0m \u001b[1;33m\u001b[0m\u001b[0m\n\u001b[0;32m   3365\u001b[0m         \u001b[1;32mif\u001b[0m \u001b[0mis_scalar\u001b[0m\u001b[1;33m(\u001b[0m\u001b[0mkey\u001b[0m\u001b[1;33m)\u001b[0m \u001b[1;32mand\u001b[0m \u001b[0misna\u001b[0m\u001b[1;33m(\u001b[0m\u001b[0mkey\u001b[0m\u001b[1;33m)\u001b[0m \u001b[1;32mand\u001b[0m \u001b[1;32mnot\u001b[0m \u001b[0mself\u001b[0m\u001b[1;33m.\u001b[0m\u001b[0mhasnans\u001b[0m\u001b[1;33m:\u001b[0m\u001b[1;33m\u001b[0m\u001b[1;33m\u001b[0m\u001b[0m\n",
      "\u001b[1;31mKeyError\u001b[0m: 'brgy'"
     ]
    }
   ],
   "source": [
    "df['brgy'] = df['brgy'].str.lower()\n",
    "df['brgy'].head()"
   ]
  },
  {
   "cell_type": "code",
   "execution_count": null,
   "metadata": {},
   "outputs": [
    {
     "data": {
      "text/plain": [
       "array(['pasonanca', 'zone 3', 'zone 1', 'zone 2', 'zone 4', 'santa maria',\n",
       "       'tetuan', 'san jose gusu', 'san roque', 'tugbungan'], dtype=object)"
      ]
     },
     "execution_count": 438,
     "metadata": {},
     "output_type": "execute_result"
    }
   ],
   "source": [
    "pd.set_option(\"display.max_column\", None)\n",
    "df['brgy'].unique()"
   ]
  },
  {
   "cell_type": "code",
   "execution_count": null,
   "metadata": {},
   "outputs": [],
   "source": [
    "df['brgy'] = df['brgy'].replace({'pasonanca':0, 'zone 3':1, 'zone 1':2, 'zone 2':3, 'zone 4':4, 'santa maria':5, 'tetuan':6, 'san jose gusu':7, 'san roque':8, 'tugbungan':9\n",
    "})"
   ]
  },
  {
   "cell_type": "code",
   "execution_count": null,
   "metadata": {},
   "outputs": [
    {
     "data": {
      "text/plain": [
       "array([0, 1, 2, 3, 4, 5, 6, 7, 8, 9], dtype=int64)"
      ]
     },
     "execution_count": 440,
     "metadata": {},
     "output_type": "execute_result"
    }
   ],
   "source": [
    "df['brgy'].unique()"
   ]
  },
  {
   "cell_type": "markdown",
   "metadata": {},
   "source": [
    "##### Checking for null"
   ]
  },
  {
   "cell_type": "code",
   "execution_count": null,
   "metadata": {},
   "outputs": [
    {
     "data": {
      "text/plain": [
       "brgy              0\n",
       "classification    0\n",
       "land_area         0\n",
       "target_value      0\n",
       "dtype: int64"
      ]
     },
     "execution_count": 441,
     "metadata": {},
     "output_type": "execute_result"
    }
   ],
   "source": [
    "df.isna().sum()"
   ]
  },
  {
   "cell_type": "markdown",
   "metadata": {},
   "source": [
    "### Classification"
   ]
  },
  {
   "cell_type": "code",
   "execution_count": null,
   "metadata": {},
   "outputs": [
    {
     "data": {
      "text/plain": [
       "array(['commercial', 'residential'], dtype=object)"
      ]
     },
     "execution_count": 442,
     "metadata": {},
     "output_type": "execute_result"
    }
   ],
   "source": [
    "df['classification'] = df['classification'].str.lower()\n",
    "df['classification'].unique()"
   ]
  },
  {
   "cell_type": "code",
   "execution_count": null,
   "metadata": {},
   "outputs": [
    {
     "data": {
      "text/plain": [
       "array([1, 0], dtype=int64)"
      ]
     },
     "execution_count": 443,
     "metadata": {},
     "output_type": "execute_result"
    }
   ],
   "source": [
    "df['classification'] = df['classification'].replace({'residential':0,'commercial':1})\n",
    "df['classification'].unique()"
   ]
  },
  {
   "cell_type": "code",
   "execution_count": null,
   "metadata": {},
   "outputs": [
    {
     "data": {
      "text/html": [
       "<div>\n",
       "<style scoped>\n",
       "    .dataframe tbody tr th:only-of-type {\n",
       "        vertical-align: middle;\n",
       "    }\n",
       "\n",
       "    .dataframe tbody tr th {\n",
       "        vertical-align: top;\n",
       "    }\n",
       "\n",
       "    .dataframe thead th {\n",
       "        text-align: right;\n",
       "    }\n",
       "</style>\n",
       "<table border=\"1\" class=\"dataframe\">\n",
       "  <thead>\n",
       "    <tr style=\"text-align: right;\">\n",
       "      <th></th>\n",
       "      <th>brgy</th>\n",
       "      <th>classification</th>\n",
       "      <th>land_area</th>\n",
       "      <th>target_value</th>\n",
       "    </tr>\n",
       "  </thead>\n",
       "  <tbody>\n",
       "    <tr>\n",
       "      <th>0</th>\n",
       "      <td>0</td>\n",
       "      <td>1</td>\n",
       "      <td>29.0</td>\n",
       "      <td>229100.0</td>\n",
       "    </tr>\n",
       "    <tr>\n",
       "      <th>1</th>\n",
       "      <td>0</td>\n",
       "      <td>1</td>\n",
       "      <td>361.0</td>\n",
       "      <td>2851900.0</td>\n",
       "    </tr>\n",
       "    <tr>\n",
       "      <th>2</th>\n",
       "      <td>1</td>\n",
       "      <td>1</td>\n",
       "      <td>842.0</td>\n",
       "      <td>6651800.0</td>\n",
       "    </tr>\n",
       "    <tr>\n",
       "      <th>3</th>\n",
       "      <td>1</td>\n",
       "      <td>1</td>\n",
       "      <td>857.0</td>\n",
       "      <td>6770300.0</td>\n",
       "    </tr>\n",
       "    <tr>\n",
       "      <th>4</th>\n",
       "      <td>1</td>\n",
       "      <td>1</td>\n",
       "      <td>20.0</td>\n",
       "      <td>158000.0</td>\n",
       "    </tr>\n",
       "  </tbody>\n",
       "</table>\n",
       "</div>"
      ],
      "text/plain": [
       "   brgy  classification  land_area  target_value\n",
       "0     0               1       29.0      229100.0\n",
       "1     0               1      361.0     2851900.0\n",
       "2     1               1      842.0     6651800.0\n",
       "3     1               1      857.0     6770300.0\n",
       "4     1               1       20.0      158000.0"
      ]
     },
     "execution_count": 444,
     "metadata": {},
     "output_type": "execute_result"
    }
   ],
   "source": [
    "df.head()"
   ]
  },
  {
   "cell_type": "markdown",
   "metadata": {},
   "source": [
    "##### End of Cleaning"
   ]
  },
  {
   "cell_type": "markdown",
   "metadata": {},
   "source": [
    "### Pre-Processing"
   ]
  },
  {
   "cell_type": "code",
   "execution_count": null,
   "metadata": {},
   "outputs": [],
   "source": [
    "X = df.drop('target_value',axis=1)\n",
    "       \n",
    "y = df.target_value"
   ]
  },
  {
   "cell_type": "markdown",
   "metadata": {},
   "source": [
    "### Metrics Model"
   ]
  },
  {
   "cell_type": "markdown",
   "metadata": {},
   "source": [
    "### Gradient Boosting"
   ]
  },
  {
   "cell_type": "code",
   "execution_count": null,
   "metadata": {},
   "outputs": [],
   "source": [
    "from sklearn import metrics\n",
    "from xgboost import XGBRegressor\n",
    "\n",
    "X_train, X_test, y_train, y_test = train_test_split(X, y, test_size=0.1, random_state=13)\n",
    "\n",
    "xgbr = XGBRegressor(verbosity=0) "
   ]
  },
  {
   "cell_type": "code",
   "execution_count": null,
   "metadata": {},
   "outputs": [
    {
     "name": "stdout",
     "output_type": "stream",
     "text": [
      "Mean Absolute Error: 279270.07861328125\n",
      "Mean Squared Error: 338515511254.35876\n",
      "Root Mean Squared Error: 528.4601012501145\n",
      "R Squared: 0.8612833092914087\n"
     ]
    }
   ],
   "source": [
    "from sklearn.metrics import mean_squared_error, r2_score\n",
    "\n",
    "xgbr.fit(X_train, y_train)\n",
    "\n",
    "y_pred = xgbr.predict(X_test)\n",
    "\n",
    "# Result of MAE\n",
    "print(\"Mean Absolute Error:\",metrics.mean_absolute_error(y_test, y_pred))\n",
    "\n",
    "# Result of MSE\n",
    "print(\"Mean Squared Error:\",metrics.mean_squared_error(y_test, y_pred))\n",
    "\n",
    "# Result of RMSE\n",
    "print(\"Root Mean Squared Error:\",np.sqrt(metrics.mean_absolute_error(y_test, y_pred)))\n",
    "\n",
    "# Result of R^2\n",
    "print(\"R Squared:\",r2_score(y_test, y_pred))"
   ]
  },
  {
   "cell_type": "code",
   "execution_count": null,
   "metadata": {},
   "outputs": [
    {
     "data": {
      "text/plain": [
       "Index(['brgy', 'classification', 'land_area', 'target_value'], dtype='object')"
      ]
     },
     "execution_count": 448,
     "metadata": {},
     "output_type": "execute_result"
    }
   ],
   "source": [
    "df.columns"
   ]
  },
  {
   "cell_type": "code",
   "execution_count": null,
   "metadata": {},
   "outputs": [
    {
     "name": "stdout",
     "output_type": "stream",
     "text": [
      "Mean Absolute Error: 247715.8586841479\n",
      "Mean Squared Error: 296225418649.2623\n",
      "Root Mean Squared Error: 497.71061741151146\n",
      "R Squared: 0.8479504310397888\n"
     ]
    }
   ],
   "source": [
    "from sklearn import ensemble\n",
    "from sklearn.inspection import permutation_importance\n",
    "\n",
    "X_train, X_test, y_train, y_test = train_test_split(X, y, test_size=0.2, random_state=20)\n",
    "\n",
    "params = {\n",
    "    \"n_estimators\": 100,\n",
    "    \"max_depth\": 3,\n",
    "    \"min_samples_split\": 2,\n",
    "    \"learning_rate\": 0.3,\n",
    "    \"loss\": \"squared_error\",\n",
    "}\n",
    "reg = ensemble.GradientBoostingRegressor(**params)\n",
    "reg.fit(X_train, y_train)\n",
    "\n",
    "y_pred = reg.predict(X_test)\n",
    "# Result of MAE\n",
    "print(\"Mean Absolute Error:\",metrics.mean_absolute_error(y_test, y_pred))\n",
    "\n",
    "# Result of MSE\n",
    "print(\"Mean Squared Error:\",metrics.mean_squared_error(y_test, y_pred))\n",
    "\n",
    "# Result of RMSE\n",
    "print(\"Root Mean Squared Error:\",np.sqrt(metrics.mean_absolute_error(y_test, y_pred)))\n",
    "\n",
    "# Result of R^2\n",
    "print(\"R Squared:\",r2_score(y_test, y_pred))"
   ]
  },
  {
   "cell_type": "markdown",
   "metadata": {},
   "source": [
    "### Export pickle file"
   ]
  },
  {
   "cell_type": "code",
   "execution_count": null,
   "metadata": {},
   "outputs": [],
   "source": [
    "import pickle\n",
    "\n",
    "pickle.dump(reg, open('model_commercial.pkl','wb'))"
   ]
  },
  {
   "cell_type": "code",
   "execution_count": null,
   "metadata": {},
   "outputs": [],
   "source": [
    "model = pickle.load(open('model_commercial.pkl','rb'))"
   ]
  },
  {
   "cell_type": "code",
   "execution_count": null,
   "metadata": {},
   "outputs": [],
   "source": [
    "import json\n",
    "\n",
    "columns = {\n",
    "    'data_columns' : [col.lower() for col in X.columns]\n",
    "}\n",
    "with open(\"columns_commercial.json\",\"w\") as f:\n",
    "    f.write(json.dumps(columns))"
   ]
  },
  {
   "cell_type": "code",
   "execution_count": null,
   "metadata": {},
   "outputs": [
    {
     "name": "stdout",
     "output_type": "stream",
     "text": [
      "     brgy  classification   land_area  target_value\n",
      "0       0               1     29.0000     229100.00\n",
      "1       0               1    361.0000    2851900.00\n",
      "2       1               1    842.0000    6651800.00\n",
      "3       1               1    857.0000    6770300.00\n",
      "4       1               1     20.0000     158000.00\n",
      "5       1               1    842.0000    6651800.00\n",
      "6       1               1    857.0000    6770300.00\n",
      "7       1               1   1183.0000    1324960.00\n",
      "8       2               1     30.6600     242214.00\n",
      "9       2               1    200.0000    1580000.00\n",
      "10      2               1    200.0000    1580000.00\n",
      "11      2               1    710.0000    5609000.00\n",
      "12      2               1    200.0000    1580000.00\n",
      "13      2               1    200.0000    1580000.00\n",
      "14      2               1    236.0000    1864400.00\n",
      "15      2               1    400.0000    3160000.00\n",
      "16      2               1    120.0000     948000.00\n",
      "17      2               1    471.0000    2684700.00\n",
      "18      2               1    163.0000     929100.00\n",
      "19      2               1    164.0000     934800.00\n",
      "20      2               1     31.0000     244900.00\n",
      "21      2               1   1014.0000    5779800.00\n",
      "22      2               1     11.3100      89349.00\n",
      "23      2               1    124.0000     979600.00\n",
      "24      2               1     41.0000     323900.00\n",
      "25      2               1     99.0000     782100.00\n",
      "26      2               1     20.5000     161950.00\n",
      "27      2               1    323.0000    2551700.00\n",
      "28      2               1     18.5500     146545.00\n",
      "29      2               1    756.0000    5972400.00\n",
      "30      3               1     10.0000      79000.00\n",
      "31      3               1   1469.0000   11605100.00\n",
      "32      3               1     30.0000     171000.00\n",
      "33      3               1   1129.0000    6435300.00\n",
      "34      3               1      8.0000      45600.00\n",
      "35      3               1    255.0000    1453500.00\n",
      "36      3               1    300.0000    1710000.00\n",
      "37      3               1     10.0000      57000.00\n",
      "38      3               1    439.0000    2502300.00\n",
      "39      3               1     18.0000     102600.00\n",
      "40      1               1   3462.0000    5193000.00\n",
      "41      1               1    400.0000     940000.00\n",
      "42      1               1    200.0000     470000.00\n",
      "43      1               1    597.0000    1402950.00\n",
      "44      1               1    353.0000     395360.00\n",
      "45      1               1    686.0000    1029000.00\n",
      "46      1               1    686.0000    1029000.00\n",
      "47      1               1    407.0000     956450.00\n",
      "48      1               1    407.0000     956450.00\n",
      "49      1               1     20.0000      47000.00\n",
      "50      1               1   1699.0000    3992650.00\n",
      "51      1               1     11.4400     131560.00\n",
      "52      1               1    309.0000    3553500.00\n",
      "53      1               1      8.0000      18800.00\n",
      "54      1               1    328.0000     770800.00\n",
      "55      1               1     10.0000      57000.00\n",
      "56      1               1    571.0000    3254100.00\n",
      "57      1               1     12.0000      94800.00\n",
      "58      1               1    230.0000    1817000.00\n",
      "59      1               1    858.0000    6778200.00\n",
      "60      1               1   1018.0000    8042200.00\n",
      "61      4               1    300.0000    2370000.00\n",
      "62      4               1     30.0000     237000.00\n",
      "63      4               1    794.0000    6272600.00\n",
      "64      3               1    347.0000    2741300.00\n",
      "65      3               1     68.0000     537200.00\n",
      "66      4               1     77.0000     608300.00\n",
      "67      4               1     25.0000     197500.00\n",
      "68      4               1    700.0000    5530000.00\n",
      "69      3               1    371.0000    4266500.00\n",
      "70      3               1    371.0000    4266500.00\n",
      "71      3               1     18.0000     207000.00\n",
      "72      3               1    439.0000    5048500.00\n",
      "73      3               1     16.0000     126400.00\n",
      "74      3               1    340.0000    2686000.00\n",
      "75      3               1     20.0000     114000.00\n",
      "76      3               1    416.0000    2371200.00\n",
      "77      3               1     14.0000      49000.00\n",
      "78      3               1    410.0000    1435000.00\n",
      "79      3               1     14.7500     169625.00\n",
      "80      3               1    415.0000    4772500.00\n",
      "81      3               1    370.0000    4255000.00\n",
      "82      5               1    330.0000     122100.00\n",
      "83      5               1    255.0000      94350.00\n",
      "84      5               1    503.8600     186428.32\n",
      "85      5               1    465.3900     172194.30\n",
      "86      5               1    474.0200     175387.40\n",
      "87      5               1    213.0000      78810.00\n",
      "88      5               1    214.0000      79180.00\n",
      "89      5               1    236.5500      87523.50\n",
      "90      5               1    300.0000     111000.00\n",
      "91      5               1    379.0000     140230.00\n",
      "92      5               1    306.0000     113220.00\n",
      "93      5               1    150.0000      55500.00\n",
      "94      6               1    160.0000      59200.00\n",
      "95      6               1    450.0000     337500.00\n",
      "96      6               1   1503.0000    1127250.00\n",
      "97      6               1   2853.0000    2139750.00\n",
      "98      6               1    179.0000      66230.00\n",
      "99      6               1    491.0000     368250.00\n",
      "100     6               1    165.0000     123750.00\n",
      "101     6               1    250.0000      92500.00\n",
      "102     6               1    250.0000      92500.00\n",
      "103     6               1    801.0000     296370.00\n",
      "104     6               1    541.0000     200170.00\n",
      "105     6               1    339.0000     125430.00\n",
      "106     6               1    250.0000      92500.00\n",
      "107     6               1    272.0000     100640.00\n",
      "108     6               1    218.0000     135160.00\n",
      "109     6               1    247.0000     185250.00\n",
      "110     6               1    260.0000     195100.00\n",
      "111     6               1    125.0000      93750.00\n",
      "112     6               1    260.0000     195000.00\n",
      "113     6               1   1999.0000     739630.00\n",
      "114     7               0    372.0000     137640.00\n",
      "115     7               0    502.0000     185740.00\n",
      "116     7               0    475.0000     175750.00\n",
      "117     7               0    250.0000      92500.00\n",
      "118     7               0    590.0000     218300.00\n",
      "119     7               0    200.0000      74000.00\n",
      "120     7               0    212.0000      78440.00\n",
      "121     7               0     79.0000      29230.00\n",
      "122     7               0     39.0000      14430.00\n",
      "123     7               0    285.0000     105450.00\n",
      "124     7               0    176.0000      65120.00\n",
      "125     7               0     86.0000      31820.00\n",
      "126     7               0    375.0000     138750.00\n",
      "127     7               0    456.0000     168720.00\n",
      "128     8               0    118.0000      43660.00\n",
      "129     8               0    321.0000     118770.00\n",
      "130     8               0    119.0000      44030.00\n",
      "131     8               0    698.0000     258260.00\n",
      "132     8               0    120.0000      44400.00\n",
      "133     8               0    206.0000      76220.00\n",
      "134     8               0    300.0000     111000.00\n",
      "135     8               0    100.0000      37000.00\n",
      "136     8               0    109.0000      40330.00\n",
      "137     9               0    485.0000     179450.00\n",
      "138     9               0    164.0000      60680.00\n",
      "139     9               0    183.0000      67710.00\n",
      "140     9               0    182.0000      67340.00\n",
      "141     9               0    500.0000     185000.00\n",
      "142     9               0    200.0000      74000.00\n",
      "143     9               0    241.0000      89170.00\n",
      "144     9               0    200.0000      74000.00\n",
      "145     9               0    136.0000      50320.00\n",
      "146     9               0    518.0000     191660.00\n",
      "147     9               0      0.1142       4282.50\n",
      "148     9               0    228.0000      84360.00\n",
      "149     9               0    150.0000      50500.00\n",
      "150     9               0    370.0000     136900.00\n",
      "151     5               0    140.0000      51800.00\n",
      "152     5               0    293.0000     380900.00\n",
      "153     5               0    150.0000      55500.00\n",
      "154     5               0  10195.0000    3772150.00\n",
      "155     5               0    100.0000      37000.00\n",
      "156     5               0    240.0000      88800.00\n"
     ]
    }
   ],
   "source": [
    "df.to_csv (r'D:\\System\\broker\\datasets\\export_dataframe_commercial.csv', index = False, header=True)\n",
    "\n",
    "print (df)"
   ]
  }
 ],
 "metadata": {
  "interpreter": {
   "hash": "e1065e16cb979fc236d435c38245936c1564a2f9907d9c3a1b5acf54dd047cb8"
  },
  "kernelspec": {
   "display_name": "Python 3.9.9 64-bit (windows store)",
   "language": "python",
   "name": "python3"
  },
  "language_info": {
   "codemirror_mode": {
    "name": "ipython",
    "version": 3
   },
   "file_extension": ".py",
   "mimetype": "text/x-python",
   "name": "python",
   "nbconvert_exporter": "python",
   "pygments_lexer": "ipython3",
   "version": "3.9.10"
  },
  "orig_nbformat": 4
 },
 "nbformat": 4,
 "nbformat_minor": 2
}
